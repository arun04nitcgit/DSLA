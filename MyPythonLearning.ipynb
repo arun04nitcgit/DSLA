{
  "nbformat": 4,
  "nbformat_minor": 0,
  "metadata": {
    "colab": {
      "name": "MyPythonLearning.ipynb",
      "provenance": [],
      "authorship_tag": "ABX9TyMW8XUzYng3pIR05v1xZ3+B",
      "include_colab_link": true
    },
    "kernelspec": {
      "name": "python3",
      "display_name": "Python 3"
    },
    "accelerator": "GPU"
  },
  "cells": [
    {
      "cell_type": "markdown",
      "metadata": {
        "id": "view-in-github",
        "colab_type": "text"
      },
      "source": [
        "<a href=\"https://colab.research.google.com/github/arun04nitcgit/DataScience/blob/master/MyPythonLearning.ipynb\" target=\"_parent\"><img src=\"https://colab.research.google.com/assets/colab-badge.svg\" alt=\"Open In Colab\"/></a>"
      ]
    },
    {
      "cell_type": "code",
      "metadata": {
        "id": "gJzpB5Vij_h5",
        "colab_type": "code",
        "outputId": "b5c68dfb-07d3-46fe-c797-6bf8a2c8f9fa",
        "colab": {
          "base_uri": "https://localhost:8080/",
          "height": 50
        }
      },
      "source": [
        "\n",
        "def gcd(a, b):\n",
        "    while (b != 0):\n",
        "        t = a       # set aside the value of a\n",
        "        a = b       # set a equal to b\n",
        "        b = t % b   # divide t (which is a) by b\n",
        "\n",
        "    return a\n",
        "\n",
        "\n",
        "# try out the function with a few examples\n",
        "print(gcd(60, 96))  # should be 12\n",
        "print(gcd(20, 8))   # should be 4\n"
      ],
      "execution_count": 1,
      "outputs": [
        {
          "output_type": "stream",
          "text": [
            "12\n",
            "4\n"
          ],
          "name": "stdout"
        }
      ]
    },
    {
      "cell_type": "code",
      "metadata": {
        "id": "J5-l_ZvXbIhV",
        "colab_type": "code",
        "colab": {
          "base_uri": "https://localhost:8080/",
          "height": 218
        },
        "outputId": "d85e8fa2-60fa-4e92-ba35-a35802b68da7"
      },
      "source": [
        "# Linked list example\n",
        "\n",
        "\n",
        "# the Node class\n",
        "class Node(object):\n",
        "    def __init__(self, val):\n",
        "        self.val = val\n",
        "        self.next = None\n",
        "\n",
        "    def get_data(self):\n",
        "        return self.val\n",
        "\n",
        "    def set_data(self, val):\n",
        "        self.val = val\n",
        "\n",
        "    def get_next(self):\n",
        "        return self.next\n",
        "\n",
        "    def set_next(self, next):\n",
        "        self.next = next\n",
        "\n",
        "\n",
        "# the LinkedList class\n",
        "class LinkedList(object):\n",
        "    def __init__(self, head=None):\n",
        "        self.head = head\n",
        "        self.count = 0\n",
        "\n",
        "    def get_count(self):\n",
        "        return self.count\n",
        "\n",
        "    def insert(self, data):\n",
        "        new_node = Node(data)\n",
        "        new_node.set_next(self.head)\n",
        "        self.head = new_node\n",
        "        self.count += 1\n",
        "\n",
        "    def find(self, val):\n",
        "        item = self.head\n",
        "        while (item != None):\n",
        "            if item.get_data() == val:\n",
        "                return item\n",
        "            else:\n",
        "                item = item.get_next()\n",
        "        return None\n",
        "\n",
        "    def deleteAt(self, idx):\n",
        "        if idx > self.count:\n",
        "            return\n",
        "        if self.head == None:\n",
        "            return\n",
        "        else:\n",
        "            tempIdx = 0\n",
        "            node = self.head\n",
        "            while tempIdx < idx-1:\n",
        "                node = node.get_next()\n",
        "                tempIdx += 1\n",
        "            node.set_next(node.get_next().get_next())\n",
        "            self.count -= 1\n",
        "\n",
        "    def dump_list(self):\n",
        "        tempnode = self.head\n",
        "        while (tempnode != None):\n",
        "            print(\"Node: \", tempnode.get_data())\n",
        "            tempnode = tempnode.get_next()\n",
        "\n",
        "\n",
        "# create a linked list and insert some items\n",
        "itemlist = LinkedList()\n",
        "itemlist.insert(38)\n",
        "itemlist.insert(49)\n",
        "itemlist.insert(13)\n",
        "itemlist.insert(15)\n",
        "\n",
        "itemlist.dump_list()\n",
        "\n",
        "# exercise the list\n",
        "print(\"Item count: \", itemlist.get_count())\n",
        "print(\"Finding item: \", itemlist.find(13))\n",
        "print(\"Finding item: \", itemlist.find(78))\n",
        "\n",
        "# delete an item\n",
        "itemlist.deleteAt(3)\n",
        "print(\"Item count: \", itemlist.get_count())\n",
        "print(\"Finding item: \", itemlist.find(38))\n",
        "itemlist.dump_list()\n"
      ],
      "execution_count": 3,
      "outputs": [
        {
          "output_type": "stream",
          "text": [
            "Node:  15\n",
            "Node:  13\n",
            "Node:  49\n",
            "Node:  38\n",
            "Item count:  4\n",
            "Finding item:  <__main__.Node object at 0x7fc9cc8f7a58>\n",
            "Finding item:  None\n",
            "Item count:  3\n",
            "Finding item:  None\n",
            "Node:  15\n",
            "Node:  13\n",
            "Node:  49\n"
          ],
          "name": "stdout"
        }
      ]
    },
    {
      "cell_type": "code",
      "metadata": {
        "id": "cgObBD-vlqHY",
        "colab_type": "code",
        "colab": {}
      },
      "source": [
        "# try out the Python stack functions\n",
        "\n",
        "# create a new empty stack\n",
        "stack = []\n",
        "\n",
        "# push items onto the stack\n",
        "stack.append(1)\n",
        "stack.append(2)\n",
        "stack.append(3)\n",
        "stack.append(4)\n",
        "\n",
        "# print the stack contents\n",
        "print(stack)\n",
        "\n",
        "# pop an item off the stack\n",
        "x = stack.pop()\n",
        "print(x)\n",
        "print(stack)\n"
      ],
      "execution_count": 0,
      "outputs": []
    }
  ]
}