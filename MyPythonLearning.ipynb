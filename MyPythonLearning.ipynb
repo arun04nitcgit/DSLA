{
  "nbformat": 4,
  "nbformat_minor": 0,
  "metadata": {
    "colab": {
      "name": "MyPythonLearning.ipynb",
      "provenance": [],
      "authorship_tag": "ABX9TyOhPvNiDBW1/agRD53DDHMP",
      "include_colab_link": true
    },
    "kernelspec": {
      "name": "python3",
      "display_name": "Python 3"
    },
    "accelerator": "GPU"
  },
  "cells": [
    {
      "cell_type": "markdown",
      "metadata": {
        "id": "view-in-github",
        "colab_type": "text"
      },
      "source": [
        "<a href=\"https://colab.research.google.com/github/arun04nitcgit/DataScience/blob/master/MyPythonLearning.ipynb\" target=\"_parent\"><img src=\"https://colab.research.google.com/assets/colab-badge.svg\" alt=\"Open In Colab\"/></a>"
      ]
    },
    {
      "cell_type": "code",
      "metadata": {
        "id": "gJzpB5Vij_h5",
        "colab_type": "code",
        "colab": {
          "base_uri": "https://localhost:8080/",
          "height": 50
        },
        "outputId": "8334ef01-40f5-4280-d590-fcb22880ad21"
      },
      "source": [
        "\n",
        "def gcd(a, b):\n",
        "    while (b != 0):\n",
        "        t = a       # set aside the value of a\n",
        "        a = b       # set a equal to b\n",
        "        b = t % b   # divide t (which is a) by b\n",
        "\n",
        "    return a\n",
        "\n",
        "\n",
        "# try out the function with a few examples\n",
        "print(gcd(60, 96))  # should be 12\n",
        "print(gcd(20, 8))   # should be 4\n"
      ],
      "execution_count": 1,
      "outputs": [
        {
          "output_type": "stream",
          "text": [
            "12\n",
            "4\n"
          ],
          "name": "stdout"
        }
      ]
    }
  ]
}